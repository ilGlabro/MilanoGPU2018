{
 "cells": [
  {
   "cell_type": "markdown",
   "metadata": {},
   "source": [
    "# License\n",
    "\n",
    "    Jupyter notebook for accessing OpenCL\n",
    "    Copyright (C) 2015, 2018 Andre.Brodtkorb@ifi.uio.no\n",
    "\n",
    "    This program is free software: you can redistribute it and/or modify\n",
    "    it under the terms of the GNU General Public License as published by\n",
    "    the Free Software Foundation, either version 3 of the License, or\n",
    "    (at your option) any later version.\n",
    "\n",
    "    This program is distributed in the hope that it will be useful,\n",
    "    but WITHOUT ANY WARRANTY; without even the implied warranty of\n",
    "    MERCHANTABILITY or FITNESS FOR A PARTICULAR PURPOSE.  See the\n",
    "    GNU General Public License for more details.\n",
    "\n",
    "    You should have received a copy of the GNU General Public License\n",
    "    along with this program.  If not, see <http://www.gnu.org/licenses/>."
   ]
  },
  {
   "cell_type": "code",
   "execution_count": 1,
   "metadata": {},
   "outputs": [],
   "source": [
    "#Lets have matplotlib \"inline\"\n",
    "%matplotlib inline\n",
    "\n",
    "#Lets have opencl ipython integration enabled\n",
    "%load_ext pyopencl.ipython_ext\n",
    "\n",
    "#Import packages we need\n",
    "import os\n",
    "import numpy as np\n",
    "import pyopencl as cl\n",
    "\n",
    "from matplotlib import pyplot as plt\n",
    "\n",
    "#Make sure we get compiler output from OpenCL\n",
    "import os\n",
    "os.environ[\"PYOPENCL_COMPILER_OUTPUT\"] = \"1\""
   ]
  },
  {
   "cell_type": "code",
   "execution_count": 2,
   "metadata": {},
   "outputs": [
    {
     "name": "stdout",
     "output_type": "stream",
     "text": [
      "Using  Intel(R) Xeon(R) CPU E5-2686 v4 @ 2.30GHz\n"
     ]
    }
   ],
   "source": [
    "#Determine which GPU to use\n",
    "os.environ[\"PYOPENCL_CTX\"] = \"1\"\n",
    "\n",
    "#Create OpenCL context\n",
    "cl_ctx = cl.create_some_context()\n",
    "\n",
    "print(\"Using \", cl_ctx.devices[0].name)\n",
    "\n",
    "#Create an OpenCL command queue\n",
    "cl_queue = cl.CommandQueue(cl_ctx)"
   ]
  },
  {
   "cell_type": "code",
<<<<<<< HEAD
   "execution_count": 4,
=======
   "execution_count": 5,
>>>>>>> 247aa5ec0b6a1de6fac00fda446ce11f995e5b66
   "metadata": {},
   "outputs": [],
   "source": [
    "%%cl_kernel \n",
<<<<<<< HEAD
    "#NOTE: we need to change this to 2D for matrix addition, add int columns, etc...\n",
    "__kernel void addKernel(__global float *c, __global const float *a, __global const float *b) {\n",
    "  int gid = get_global_id(0);    \n",
=======
    "//NOTE: We need to change this to 2D for matrix addition, add int columns, etc. \n",
    "__kernel void addKernel(__global float *c, __global const float *a, __global const float *b) {\n",
    "  int gid = get_global_id(0);   \n",
    "    \n",
>>>>>>> 247aa5ec0b6a1de6fac00fda446ce11f995e5b66
    "  c[gid] = a[gid] + b[gid];\n",
    "}"
   ]
  },
  {
   "cell_type": "code",
<<<<<<< HEAD
   "execution_count": 5,
=======
   "execution_count": 6,
>>>>>>> 247aa5ec0b6a1de6fac00fda446ce11f995e5b66
   "metadata": {},
   "outputs": [
    {
     "data": {
      "text/plain": [
<<<<<<< HEAD
       "<pyopencl.cffi_cl.NannyEvent at 0x7f2e002df9e8>"
      ]
     },
     "execution_count": 5,
=======
       "<pyopencl.cffi_cl.NannyEvent at 0x7f1ce038eb38>"
      ]
     },
     "execution_count": 6,
>>>>>>> 247aa5ec0b6a1de6fac00fda446ce11f995e5b66
     "metadata": {},
     "output_type": "execute_result"
    }
   ],
   "source": [
    "#Size of our test\n",
    "n = 50\n",
    "\n",
    "#Create test input / output data\n",
<<<<<<< HEAD
    "#NOTE: for matrix addition, need to use np.random.random((size))\n",
=======
    "#NOTE: For matrix addition, need to use np.random.random((size)) for 2D\n",
>>>>>>> 247aa5ec0b6a1de6fac00fda446ce11f995e5b66
    "a = np.random.rand(n).astype(np.float32)\n",
    "b = np.random.rand(n).astype(np.float32)\n",
    "c = np.empty_like(a)\n",
    "\n",
    "#Upload data to the device\n",
    "mf = cl.mem_flags\n",
    "a_g = cl.Buffer(cl_ctx, mf.READ_ONLY | mf.COPY_HOST_PTR, hostbuf=a)\n",
    "b_g = cl.Buffer(cl_ctx, mf.READ_ONLY | mf.COPY_HOST_PTR, hostbuf=b)\n",
    "\n",
    "#Allocate output data\n",
    "c_g = cl.Buffer(cl_ctx, mf.WRITE_ONLY, a.nbytes)\n",
    "\n",
    "#Execute program on device\n",
    "addKernel(cl_queue, a.shape, None, c_g, a_g, b_g)\n",
    "\n",
    "#Copy data from device to host\n",
    "cl.enqueue_copy(cl_queue, c, c_g)"
   ]
  },
  {
   "cell_type": "code",
<<<<<<< HEAD
   "execution_count": 6,
=======
   "execution_count": 7,
>>>>>>> 247aa5ec0b6a1de6fac00fda446ce11f995e5b66
   "metadata": {},
   "outputs": [
    {
     "name": "stdout",
     "output_type": "stream",
     "text": [
<<<<<<< HEAD
      "C   =  [0.2202314  1.3069632  1.3476968  1.4639804  0.9660931  1.0883132\n",
      " 1.6196008  0.5536587  1.2911301  0.9331793  0.8673877  0.21842453\n",
      " 0.5405899  1.3105868  0.92365456 0.8225783  0.7068556  1.2671778\n",
      " 1.1686018  1.277047   1.3510748  1.2923336  0.79304016 1.3314555\n",
      " 0.77676547 0.8099914  1.2378035  0.38195464 0.58001065 0.3992667\n",
      " 0.76731503 1.0094969  0.5453311  1.047464   1.0859165  0.10580757\n",
      " 1.0637817  1.2285789  0.18907697 0.43660176 1.087802   0.960986\n",
      " 1.3082516  1.29863    0.40661278 1.3765291  1.0973957  1.0587575\n",
      " 1.3956809  1.1835854 ]\n",
      "Ref =  [0.2202314  1.3069632  1.3476968  1.4639804  0.9660931  1.0883132\n",
      " 1.6196008  0.5536587  1.2911301  0.9331793  0.8673877  0.21842453\n",
      " 0.5405899  1.3105868  0.92365456 0.8225783  0.7068556  1.2671778\n",
      " 1.1686018  1.277047   1.3510748  1.2923336  0.79304016 1.3314555\n",
      " 0.77676547 0.8099914  1.2378035  0.38195464 0.58001065 0.3992667\n",
      " 0.76731503 1.0094969  0.5453311  1.047464   1.0859165  0.10580757\n",
      " 1.0637817  1.2285789  0.18907697 0.43660176 1.087802   0.960986\n",
      " 1.3082516  1.29863    0.40661278 1.3765291  1.0973957  1.0587575\n",
      " 1.3956809  1.1835854 ]\n",
=======
      "C   =  [0.42811772 0.7443158  0.20253953 1.1155535  1.1189415  1.1894703\n",
      " 1.1397712  1.1488425  0.78052396 0.99667513 0.23699705 1.0559283\n",
      " 1.3862057  0.7682103  1.3796053  1.3959506  1.6843157  1.0075456\n",
      " 0.7118907  1.7612398  1.0910554  0.65883446 0.84355706 1.0154486\n",
      " 0.8459744  1.6358744  1.196754   1.1447222  1.0263326  1.4129703\n",
      " 0.51806986 0.6671064  0.77112335 0.9364731  0.46100494 0.91130495\n",
      " 1.1453453  0.76173985 0.7675251  1.0229571  1.4565825  0.70167875\n",
      " 1.6309798  1.5311315  0.67154473 1.1398973  1.3447627  0.80522513\n",
      " 1.7443593  0.2688518 ]\n",
      "Ref =  [0.42811772 0.7443158  0.20253953 1.1155535  1.1189415  1.1894703\n",
      " 1.1397712  1.1488425  0.78052396 0.99667513 0.23699705 1.0559283\n",
      " 1.3862057  0.7682103  1.3796053  1.3959506  1.6843157  1.0075456\n",
      " 0.7118907  1.7612398  1.0910554  0.65883446 0.84355706 1.0154486\n",
      " 0.8459744  1.6358744  1.196754   1.1447222  1.0263326  1.4129703\n",
      " 0.51806986 0.6671064  0.77112335 0.9364731  0.46100494 0.91130495\n",
      " 1.1453453  0.76173985 0.7675251  1.0229571  1.4565825  0.70167875\n",
      " 1.6309798  1.5311315  0.67154473 1.1398973  1.3447627  0.80522513\n",
      " 1.7443593  0.2688518 ]\n",
>>>>>>> 247aa5ec0b6a1de6fac00fda446ce11f995e5b66
      "Sad =  0.0\n"
     ]
    }
   ],
   "source": [
    "#Compute reference using Numpy\n",
    "c_ref = a + b\n",
    "\n",
    "#Print result\n",
    "print(\"C   = \", c)\n",
    "print(\"Ref = \", c_ref)\n",
    "print(\"Sad = \", np.sum(np.abs(c - c_ref)))"
   ]
  },
  {
   "cell_type": "code",
<<<<<<< HEAD
   "execution_count": 7,
=======
   "execution_count": 8,
>>>>>>> 247aa5ec0b6a1de6fac00fda446ce11f995e5b66
   "metadata": {},
   "outputs": [
    {
     "data": {
      "text/plain": [
<<<<<<< HEAD
       "[<matplotlib.lines.Line2D at 0x7f2e002df0b8>]"
      ]
     },
     "execution_count": 7,
=======
       "[<matplotlib.lines.Line2D at 0x7f1ce038e208>]"
      ]
     },
     "execution_count": 8,
>>>>>>> 247aa5ec0b6a1de6fac00fda446ce11f995e5b66
     "metadata": {},
     "output_type": "execute_result"
    },
    {
     "data": {
<<<<<<< HEAD
      "image/png": "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\n",
      "text/plain": [
       "<matplotlib.figure.Figure at 0x7f2e002cfb38>"
=======
      "image/png": "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\n",
      "text/plain": [
       "<matplotlib.figure.Figure at 0x7f1ce03859e8>"
>>>>>>> 247aa5ec0b6a1de6fac00fda446ce11f995e5b66
      ]
     },
     "metadata": {
      "needs_background": "light"
     },
     "output_type": "display_data"
    }
   ],
   "source": [
    "plt.figure()\n",
    "plt.plot(c, '+r')\n",
    "plt.plot(c_ref, 'xb')"
   ]
  },
  {
   "cell_type": "code",
   "execution_count": null,
   "metadata": {
    "collapsed": true
   },
   "outputs": [],
   "source": []
  }
 ],
 "metadata": {
  "kernelspec": {
   "display_name": "Python 3",
   "language": "python",
   "name": "python3"
  },
  "language_info": {
   "codemirror_mode": {
    "name": "ipython",
    "version": 3
   },
   "file_extension": ".py",
   "mimetype": "text/x-python",
   "name": "python",
   "nbconvert_exporter": "python",
   "pygments_lexer": "ipython3",
   "version": "3.6.6"
  }
 },
 "nbformat": 4,
 "nbformat_minor": 2
}
