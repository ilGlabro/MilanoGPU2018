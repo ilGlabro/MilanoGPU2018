{
 "cells": [
  {
   "cell_type": "markdown",
   "metadata": {},
   "source": [
    "# License\n",
    "\n",
    "    Jupyter notebook for accessing CUDA\n",
    "    Copyright (C) 2018 Andre.Brodtkorb@ifi.uio.no\n",
    "\n",
    "    This program is free software: you can redistribute it and/or modify\n",
    "    it under the terms of the GNU General Public License as published by\n",
    "    the Free Software Foundation, either version 3 of the License, or\n",
    "    (at your option) any later version.\n",
    "\n",
    "    This program is distributed in the hope that it will be useful,\n",
    "    but WITHOUT ANY WARRANTY; without even the implied warranty of\n",
    "    MERCHANTABILITY or FITNESS FOR A PARTICULAR PURPOSE.  See the\n",
    "    GNU General Public License for more details.\n",
    "\n",
    "    You should have received a copy of the GNU General Public License\n",
    "    along with this program.  If not, see <http://www.gnu.org/licenses/>."
   ]
  },
  {
   "cell_type": "code",
   "execution_count": 1,
   "metadata": {},
   "outputs": [],
   "source": [
    "#Lets have matplotlib \"inline\"\n",
    "%matplotlib inline\n",
    "\n",
    "#Import packages we need\n",
    "import numpy as np\n",
    "import pycuda.compiler as cuda_compiler\n",
    "from pycuda.gpuarray import GPUArray\n",
    "import pycuda.driver as cuda_driver\n",
    "\n",
    "from matplotlib import pyplot as plt"
   ]
  },
  {
   "cell_type": "code",
   "execution_count": 2,
   "metadata": {},
   "outputs": [],
   "source": [
    "#Initialize CUDA - must be first call to CUDA!\n",
    "cuda_driver.init()"
   ]
  },
  {
   "cell_type": "code",
   "execution_count": 3,
   "metadata": {},
   "outputs": [
    {
     "name": "stdout",
     "output_type": "stream",
     "text": [
      "Using 'Tesla K80'\n",
      " => compute capability: (3, 7)\n",
      " => memory: 10212 / 11441 MB available\n"
     ]
    }
   ],
   "source": [
    "#Create CUDA context\n",
    "cuda_device = cuda_driver.Device(0)\n",
    "print(\"Using '{:s}'\".format(cuda_device.name()))\n",
    "print(\" => compute capability: {:s}\".format(str(cuda_device.compute_capability())))\n",
    "context = cuda_device.make_context()\n",
    "free, total = cuda_driver.mem_get_info()\n",
    "print(\" => memory: {:d} / {:d} MB available\".format(int(free/(1024*1024)), int(total/(1024*1024))))"
   ]
  },
  {
   "cell_type": "code",
   "execution_count": 6,
   "metadata": {},
   "outputs": [],
   "source": [
    "cuda_kernel = \"\"\"\n",
    "__global__ void addVectorKernel(float* c, float* a, float* b) {\n",
    "    unsigned int i = blockIdx.x*blockDim.x + threadIdx.x;\n",
    "    c[i] = a[i] + b[i];\n",
    "}\n",
    "__global__ void addMatrixKernel(float* c, float* a, float* b, int cols) {\n",
    "    unsigned int i = blockIdx.x*blockDim.x + threadIdx.x;\n",
    "    unsigned int j = blockIdx.y*blockDim.y + threadIdx.y;\n",
    "    \n",
    "    //Pseudocode\n",
    "    //c[j][i] = a[j][i] + b[j][i]\n",
    "    unsigned int k = j*cols + i;\n",
    "    \n",
    "    c[k] = a[k] + b[k];\n",
    "}\n",
    "\"\"\"\n",
    "module = cuda_compiler.SourceModule(cuda_kernel)\n",
    "kernel = module.get_function(\"addMatrixKernel\");"
   ]
  },
  {
   "cell_type": "code",
   "execution_count": 11,
   "metadata": {},
   "outputs": [
    {
     "data": {
      "image/png": "[encoded data removed]",
      "text/plain": [
       "<matplotlib.figure.Figure at 0x7ff575f9eac8>"
      ]
     },
     "metadata": {
      "needs_background": "light"
     },
     "output_type": "display_data"
    }
   ],
   "source": [
    "#Size of our test\n",
    "test_size = (16, 24)\n",
    "\n",
    "#Create test input / output data\n",
    "a = np.random.random(test_size).astype(np.float32)\n",
    "b = np.random.random(test_size).astype(np.float32)\n",
    "c = np.empty_like(a)\n",
    "\n",
    "fig = plt.figure(figsize=(12,8))\n",
    "plt.imshow(a)\n",
    "plt.colorbar()\n",
    "plt.show()"
   ]
  },
  {
   "cell_type": "code",
   "execution_count": 12,
   "metadata": {},
   "outputs": [
    {
     "name": "stdout",
     "output_type": "stream",
     "text": [
      "(16, 24)\n"
     ]
    }
   ],
   "source": [
    "print(a.shape)"
   ]
  },
  {
   "cell_type": "code",
   "execution_count": 13,
   "metadata": {},
   "outputs": [],
   "source": [
    "#Upload data to the device\n",
    "a_g = GPUArray(a.shape, np.float32)\n",
    "b_g = GPUArray(b.shape, np.float32)\n",
    "a_g.set(a)\n",
    "b_g.set(b)"
   ]
  },
  {
   "cell_type": "code",
   "execution_count": 14,
   "metadata": {},
   "outputs": [],
   "source": [
    "#Allocate output data\n",
    "c_g = GPUArray(c.shape, np.float32)"
   ]
  },
  {
   "cell_type": "code",
   "execution_count": 22,
   "metadata": {},
   "outputs": [
    {
     "name": "stdout",
     "output_type": "stream",
     "text": [
      "Domain_size is (24, 16)\n",
      "Block_size is (8, 4, 1)\n",
      "Grid_size is (3, 4, 1)\n"
     ]
    }
   ],
   "source": [
    "#a.shape = [rows, columns] => [y, x]\n",
    "domain_size = (a.shape[1], a.shape[0]) #Now domain size = [x, y]\n",
    "block_size = (8, 4, 1) #These need to be [x, y, z]\n",
    "grid_size = (domain_size[0] // block_size[0], domain_size[1] // block_size[1], 1)\n",
    "\n",
    "print(\"Domain_size is \" + str(domain_size))\n",
    "print(\"Block_size is \" + str(block_size))\n",
    "print(\"Grid_size is \" + str(grid_size))"
   ]
  },
  {
   "cell_type": "code",
   "execution_count": 24,
   "metadata": {},
   "outputs": [
    {
     "data": {
      "text/plain": [
       "array([[0.82425785, 1.3063028 , 1.1934574 , 0.6712711 , 1.6580148 ,\n",
       "        1.7739623 , 0.92673373, 0.7710205 , 0.863724  , 0.9188934 ,\n",
       "        1.2666498 , 1.0538803 , 1.2713938 , 0.43981427, 0.58323795,\n",
       "        1.0399183 , 1.6472576 , 0.654047  , 0.9283961 , 1.2021201 ,\n",
       "        1.1786699 , 1.0241377 , 1.0449497 , 1.5436366 ],\n",
       "       [0.43262976, 1.4579455 , 0.7136212 , 0.5171683 , 0.60397404,\n",
       "        1.2522228 , 0.9442873 , 0.7507281 , 0.8162148 , 1.298001  ,\n",
       "        1.7912476 , 1.3927608 , 1.1585574 , 0.50003743, 1.2230288 ,\n",
       "        1.083072  , 1.5864518 , 0.4845649 , 0.32669914, 1.3327875 ,\n",
       "        0.80417526, 0.633654  , 1.548624  , 1.8194683 ],\n",
       "       [1.1171598 , 0.13638063, 1.1322105 , 0.7850393 , 1.004755  ,\n",
       "        1.4502498 , 0.5649321 , 1.182189  , 1.0362024 , 1.9429855 ,\n",
       "        0.61295366, 1.2128248 , 0.8597044 , 1.3219403 , 0.84680563,\n",
       "        1.4927504 , 1.7898815 , 1.3415761 , 0.89243925, 0.5061937 ,\n",
       "        0.6713599 , 1.5148919 , 1.0924857 , 1.3566332 ],\n",
       "       [0.9094578 , 1.8346775 , 1.626907  , 0.2959229 , 1.1759131 ,\n",
       "        0.41467625, 0.82893574, 0.80897045, 1.2451855 , 0.7246984 ,\n",
       "        0.5290614 , 0.90544385, 1.4953939 , 1.1379282 , 0.34494752,\n",
       "        0.6803453 , 0.8636951 , 0.780693  , 0.3318382 , 0.8545535 ,\n",
       "        1.3458362 , 1.7953124 , 0.9458519 , 1.2820165 ],\n",
       "       [1.7517169 , 1.4910018 , 1.1563942 , 0.15837926, 1.4100144 ,\n",
       "        1.4109027 , 1.421768  , 1.3623879 , 1.2770509 , 1.7907407 ,\n",
       "        0.48379678, 1.4835918 , 0.24692304, 1.6981056 , 0.5273387 ,\n",
       "        1.4309813 , 1.0305654 , 0.5738548 , 0.6690358 , 1.2285359 ,\n",
       "        0.5672694 , 1.6779106 , 1.6175086 , 1.1599547 ],\n",
       "       [0.7357651 , 1.0912677 , 0.8429004 , 0.3190778 , 1.2611201 ,\n",
       "        1.1186881 , 1.2198225 , 1.0810049 , 0.69465744, 1.042382  ,\n",
       "        1.3950281 , 1.4573748 , 0.21810105, 1.0461924 , 0.8250497 ,\n",
       "        0.6919887 , 0.9954899 , 0.5039722 , 0.54640085, 0.88057107,\n",
       "        1.8866833 , 1.1226473 , 0.68147683, 1.6977358 ],\n",
       "       [0.28485292, 1.0421113 , 0.3996454 , 1.7677407 , 0.9442851 ,\n",
       "        1.2476683 , 1.4590194 , 0.44483837, 0.6682787 , 1.1722416 ,\n",
       "        1.3895476 , 0.97656083, 1.1700724 , 0.93134385, 1.1828012 ,\n",
       "        0.9460306 , 1.1506851 , 1.524996  , 1.1802909 , 1.4962497 ,\n",
       "        1.5339622 , 0.43101206, 0.772585  , 1.2479358 ],\n",
       "       [0.8880129 , 1.1638284 , 1.8500657 , 0.9100822 , 1.6041992 ,\n",
       "        0.6662763 , 1.4545928 , 1.6138299 , 1.8491478 , 1.3359421 ,\n",
       "        0.6477451 , 0.7601149 , 0.31805807, 0.64803076, 1.0611626 ,\n",
       "        1.2281361 , 1.3061849 , 0.9065045 , 1.0484077 , 1.0945182 ,\n",
       "        0.97896045, 0.5024768 , 0.18332665, 1.338439  ],\n",
       "       [0.6725537 , 0.650626  , 1.4229505 , 1.7891095 , 1.0044706 ,\n",
       "        1.0299243 , 1.3382419 , 1.0635701 , 1.7862422 , 1.0780144 ,\n",
       "        1.862372  , 0.5513098 , 1.8100164 , 0.77740395, 1.5112656 ,\n",
       "        0.07600257, 0.88171005, 1.2002202 , 1.5530577 , 1.2592747 ,\n",
       "        1.3273469 , 1.0419374 , 0.55093056, 0.931112  ],\n",
       "       [1.0597503 , 0.57112074, 1.3413243 , 1.7430624 , 0.7698512 ,\n",
       "        1.2358936 , 1.0783162 , 0.3414453 , 0.44197893, 0.21118781,\n",
       "        1.0232918 , 0.85153854, 1.3289801 , 1.4653296 , 1.4909416 ,\n",
       "        0.9334299 , 0.5538202 , 0.65143263, 1.2046232 , 0.68262297,\n",
       "        1.3213537 , 0.12819506, 0.52435046, 1.1000698 ],\n",
       "       [0.83545494, 0.43562585, 1.3450878 , 0.32133716, 0.35658756,\n",
       "        0.74062717, 0.74550825, 1.3718745 , 0.80952823, 1.5825982 ,\n",
       "        1.3491454 , 1.0455191 , 1.1252848 , 1.2079597 , 1.1212544 ,\n",
       "        0.6111225 , 1.4893217 , 1.1775485 , 1.2200809 , 1.6654512 ,\n",
       "        0.86973125, 0.70907617, 0.8417852 , 0.7696638 ],\n",
       "       [0.9059903 , 0.5221441 , 0.90663385, 1.8275224 , 0.398008  ,\n",
       "        1.2058619 , 1.0604168 , 1.4115292 , 1.8547797 , 0.68263406,\n",
       "        1.0785139 , 0.80152845, 0.72937727, 0.85096884, 1.1847353 ,\n",
       "        1.3685057 , 1.6825275 , 1.1263466 , 0.30918595, 0.7273984 ,\n",
       "        0.9437585 , 1.4037511 , 0.8461004 , 0.8913368 ],\n",
       "       [0.6461468 , 0.5569289 , 1.5562019 , 0.93651676, 0.83079916,\n",
       "        0.52528834, 0.54387224, 0.5792287 , 1.4324889 , 1.8673513 ,\n",
       "        1.3008592 , 1.5448512 , 1.4428076 , 0.44333714, 0.72717845,\n",
       "        0.58870846, 0.9424359 , 0.84263474, 0.13831505, 1.1879809 ,\n",
       "        0.61505955, 1.0609429 , 1.6269498 , 0.5129904 ],\n",
       "       [0.82508385, 0.1971183 , 0.48197258, 1.2201377 , 1.3227744 ,\n",
       "        0.7489135 , 0.9304861 , 0.6167443 , 1.0316385 , 1.778554  ,\n",
       "        0.8863373 , 0.6769235 , 0.79686534, 0.9047408 , 1.4121122 ,\n",
       "        1.3746076 , 1.2967062 , 0.44120866, 1.0447948 , 0.5070819 ,\n",
       "        1.0273839 , 0.43684518, 0.96087945, 1.3187643 ],\n",
       "       [0.6672522 , 0.9664042 , 1.342802  , 0.6691071 , 1.2944176 ,\n",
       "        0.9242663 , 1.1131033 , 0.18543106, 0.7366841 , 0.9520756 ,\n",
       "        1.3800995 , 1.2807883 , 1.7898891 , 0.76659584, 1.4460927 ,\n",
       "        0.8678687 , 1.1037072 , 0.64315885, 0.52752894, 0.76750016,\n",
       "        0.9387245 , 1.1584276 , 0.17322783, 1.6029375 ],\n",
       "       [1.0179448 , 0.5506276 , 0.7060722 , 0.75865746, 1.447755  ,\n",
       "        0.72607386, 0.591516  , 1.6189651 , 1.6881449 , 1.8025017 ,\n",
       "        0.5751127 , 1.2943556 , 1.2546006 , 0.50044805, 1.4290346 ,\n",
       "        0.571435  , 0.7895562 , 1.7258996 , 1.2501563 , 1.0081626 ,\n",
       "        1.2532032 , 0.83079714, 1.4845321 , 1.037486  ]], dtype=float32)"
      ]
     },
     "execution_count": 24,
     "metadata": {},
     "output_type": "execute_result"
    }
   ],
   "source": [
    "#Execute program on device\n",
    "kernel(c_g, a_g, b_g, np.int32(domain_size[0]), block=block_size, grid=grid_size)\n",
    "\n",
    "#Copy data from device to host\n",
    "c_g.get(c)"
   ]
  },
  {
   "cell_type": "code",
   "execution_count": 25,
   "metadata": {},
   "outputs": [
    {
     "name": "stdout",
     "output_type": "stream",
     "text": [
      "C   =  [[0.82425785 1.3063028  1.1934574  0.6712711  1.6580148  1.7739623\n",
      "  0.92673373 0.7710205  0.863724   0.9188934  1.2666498  1.0538803\n",
      "  1.2713938  0.43981427 0.58323795 1.0399183  1.6472576  0.654047\n",
      "  0.9283961  1.2021201  1.1786699  1.0241377  1.0449497  1.5436366 ]\n",
      " [0.43262976 1.4579455  0.7136212  0.5171683  0.60397404 1.2522228\n",
      "  0.9442873  0.7507281  0.8162148  1.298001   1.7912476  1.3927608\n",
      "  1.1585574  0.50003743 1.2230288  1.083072   1.5864518  0.4845649\n",
      "  0.32669914 1.3327875  0.80417526 0.633654   1.548624   1.8194683 ]\n",
      " [1.1171598  0.13638063 1.1322105  0.7850393  1.004755   1.4502498\n",
      "  0.5649321  1.182189   1.0362024  1.9429855  0.61295366 1.2128248\n",
      "  0.8597044  1.3219403  0.84680563 1.4927504  1.7898815  1.3415761\n",
      "  0.89243925 0.5061937  0.6713599  1.5148919  1.0924857  1.3566332 ]\n",
      " [0.9094578  1.8346775  1.626907   0.2959229  1.1759131  0.41467625\n",
      "  0.82893574 0.80897045 1.2451855  0.7246984  0.5290614  0.90544385\n",
      "  1.4953939  1.1379282  0.34494752 0.6803453  0.8636951  0.780693\n",
      "  0.3318382  0.8545535  1.3458362  1.7953124  0.9458519  1.2820165 ]\n",
      " [1.7517169  1.4910018  1.1563942  0.15837926 1.4100144  1.4109027\n",
      "  1.421768   1.3623879  1.2770509  1.7907407  0.48379678 1.4835918\n",
      "  0.24692304 1.6981056  0.5273387  1.4309813  1.0305654  0.5738548\n",
      "  0.6690358  1.2285359  0.5672694  1.6779106  1.6175086  1.1599547 ]\n",
      " [0.7357651  1.0912677  0.8429004  0.3190778  1.2611201  1.1186881\n",
      "  1.2198225  1.0810049  0.69465744 1.042382   1.3950281  1.4573748\n",
      "  0.21810105 1.0461924  0.8250497  0.6919887  0.9954899  0.5039722\n",
      "  0.54640085 0.88057107 1.8866833  1.1226473  0.68147683 1.6977358 ]\n",
      " [0.28485292 1.0421113  0.3996454  1.7677407  0.9442851  1.2476683\n",
      "  1.4590194  0.44483837 0.6682787  1.1722416  1.3895476  0.97656083\n",
      "  1.1700724  0.93134385 1.1828012  0.9460306  1.1506851  1.524996\n",
      "  1.1802909  1.4962497  1.5339622  0.43101206 0.772585   1.2479358 ]\n",
      " [0.8880129  1.1638284  1.8500657  0.9100822  1.6041992  0.6662763\n",
      "  1.4545928  1.6138299  1.8491478  1.3359421  0.6477451  0.7601149\n",
      "  0.31805807 0.64803076 1.0611626  1.2281361  1.3061849  0.9065045\n",
      "  1.0484077  1.0945182  0.97896045 0.5024768  0.18332665 1.338439  ]\n",
      " [0.6725537  0.650626   1.4229505  1.7891095  1.0044706  1.0299243\n",
      "  1.3382419  1.0635701  1.7862422  1.0780144  1.862372   0.5513098\n",
      "  1.8100164  0.77740395 1.5112656  0.07600257 0.88171005 1.2002202\n",
      "  1.5530577  1.2592747  1.3273469  1.0419374  0.55093056 0.931112  ]\n",
      " [1.0597503  0.57112074 1.3413243  1.7430624  0.7698512  1.2358936\n",
      "  1.0783162  0.3414453  0.44197893 0.21118781 1.0232918  0.85153854\n",
      "  1.3289801  1.4653296  1.4909416  0.9334299  0.5538202  0.65143263\n",
      "  1.2046232  0.68262297 1.3213537  0.12819506 0.52435046 1.1000698 ]\n",
      " [0.83545494 0.43562585 1.3450878  0.32133716 0.35658756 0.74062717\n",
      "  0.74550825 1.3718745  0.80952823 1.5825982  1.3491454  1.0455191\n",
      "  1.1252848  1.2079597  1.1212544  0.6111225  1.4893217  1.1775485\n",
      "  1.2200809  1.6654512  0.86973125 0.70907617 0.8417852  0.7696638 ]\n",
      " [0.9059903  0.5221441  0.90663385 1.8275224  0.398008   1.2058619\n",
      "  1.0604168  1.4115292  1.8547797  0.68263406 1.0785139  0.80152845\n",
      "  0.72937727 0.85096884 1.1847353  1.3685057  1.6825275  1.1263466\n",
      "  0.30918595 0.7273984  0.9437585  1.4037511  0.8461004  0.8913368 ]\n",
      " [0.6461468  0.5569289  1.5562019  0.93651676 0.83079916 0.52528834\n",
      "  0.54387224 0.5792287  1.4324889  1.8673513  1.3008592  1.5448512\n",
      "  1.4428076  0.44333714 0.72717845 0.58870846 0.9424359  0.84263474\n",
      "  0.13831505 1.1879809  0.61505955 1.0609429  1.6269498  0.5129904 ]\n",
      " [0.82508385 0.1971183  0.48197258 1.2201377  1.3227744  0.7489135\n",
      "  0.9304861  0.6167443  1.0316385  1.778554   0.8863373  0.6769235\n",
      "  0.79686534 0.9047408  1.4121122  1.3746076  1.2967062  0.44120866\n",
      "  1.0447948  0.5070819  1.0273839  0.43684518 0.96087945 1.3187643 ]\n",
      " [0.6672522  0.9664042  1.342802   0.6691071  1.2944176  0.9242663\n",
      "  1.1131033  0.18543106 0.7366841  0.9520756  1.3800995  1.2807883\n",
      "  1.7898891  0.76659584 1.4460927  0.8678687  1.1037072  0.64315885\n",
      "  0.52752894 0.76750016 0.9387245  1.1584276  0.17322783 1.6029375 ]\n",
      " [1.0179448  0.5506276  0.7060722  0.75865746 1.447755   0.72607386\n",
      "  0.591516   1.6189651  1.6881449  1.8025017  0.5751127  1.2943556\n",
      "  1.2546006  0.50044805 1.4290346  0.571435   0.7895562  1.7258996\n",
      "  1.2501563  1.0081626  1.2532032  0.83079714 1.4845321  1.037486  ]]\n",
      "Ref =  [[0.82425785 1.3063028  1.1934574  0.6712711  1.6580148  1.7739623\n",
      "  0.92673373 0.7710205  0.863724   0.9188934  1.2666498  1.0538803\n",
      "  1.2713938  0.43981427 0.58323795 1.0399183  1.6472576  0.654047\n",
      "  0.9283961  1.2021201  1.1786699  1.0241377  1.0449497  1.5436366 ]\n",
      " [0.43262976 1.4579455  0.7136212  0.5171683  0.60397404 1.2522228\n",
      "  0.9442873  0.7507281  0.8162148  1.298001   1.7912476  1.3927608\n",
      "  1.1585574  0.50003743 1.2230288  1.083072   1.5864518  0.4845649\n",
      "  0.32669914 1.3327875  0.80417526 0.633654   1.548624   1.8194683 ]\n",
      " [1.1171598  0.13638063 1.1322105  0.7850393  1.004755   1.4502498\n",
      "  0.5649321  1.182189   1.0362024  1.9429855  0.61295366 1.2128248\n",
      "  0.8597044  1.3219403  0.84680563 1.4927504  1.7898815  1.3415761\n",
      "  0.89243925 0.5061937  0.6713599  1.5148919  1.0924857  1.3566332 ]\n",
      " [0.9094578  1.8346775  1.626907   0.2959229  1.1759131  0.41467625\n",
      "  0.82893574 0.80897045 1.2451855  0.7246984  0.5290614  0.90544385\n",
      "  1.4953939  1.1379282  0.34494752 0.6803453  0.8636951  0.780693\n",
      "  0.3318382  0.8545535  1.3458362  1.7953124  0.9458519  1.2820165 ]\n",
      " [1.7517169  1.4910018  1.1563942  0.15837926 1.4100144  1.4109027\n",
      "  1.421768   1.3623879  1.2770509  1.7907407  0.48379678 1.4835918\n",
      "  0.24692304 1.6981056  0.5273387  1.4309813  1.0305654  0.5738548\n",
      "  0.6690358  1.2285359  0.5672694  1.6779106  1.6175086  1.1599547 ]\n",
      " [0.7357651  1.0912677  0.8429004  0.3190778  1.2611201  1.1186881\n",
      "  1.2198225  1.0810049  0.69465744 1.042382   1.3950281  1.4573748\n",
      "  0.21810105 1.0461924  0.8250497  0.6919887  0.9954899  0.5039722\n",
      "  0.54640085 0.88057107 1.8866833  1.1226473  0.68147683 1.6977358 ]\n",
      " [0.28485292 1.0421113  0.3996454  1.7677407  0.9442851  1.2476683\n",
      "  1.4590194  0.44483837 0.6682787  1.1722416  1.3895476  0.97656083\n",
      "  1.1700724  0.93134385 1.1828012  0.9460306  1.1506851  1.524996\n",
      "  1.1802909  1.4962497  1.5339622  0.43101206 0.772585   1.2479358 ]\n",
      " [0.8880129  1.1638284  1.8500657  0.9100822  1.6041992  0.6662763\n",
      "  1.4545928  1.6138299  1.8491478  1.3359421  0.6477451  0.7601149\n",
      "  0.31805807 0.64803076 1.0611626  1.2281361  1.3061849  0.9065045\n",
      "  1.0484077  1.0945182  0.97896045 0.5024768  0.18332665 1.338439  ]\n",
      " [0.6725537  0.650626   1.4229505  1.7891095  1.0044706  1.0299243\n",
      "  1.3382419  1.0635701  1.7862422  1.0780144  1.862372   0.5513098\n",
      "  1.8100164  0.77740395 1.5112656  0.07600257 0.88171005 1.2002202\n",
      "  1.5530577  1.2592747  1.3273469  1.0419374  0.55093056 0.931112  ]\n",
      " [1.0597503  0.57112074 1.3413243  1.7430624  0.7698512  1.2358936\n",
      "  1.0783162  0.3414453  0.44197893 0.21118781 1.0232918  0.85153854\n",
      "  1.3289801  1.4653296  1.4909416  0.9334299  0.5538202  0.65143263\n",
      "  1.2046232  0.68262297 1.3213537  0.12819506 0.52435046 1.1000698 ]\n",
      " [0.83545494 0.43562585 1.3450878  0.32133716 0.35658756 0.74062717\n",
      "  0.74550825 1.3718745  0.80952823 1.5825982  1.3491454  1.0455191\n",
      "  1.1252848  1.2079597  1.1212544  0.6111225  1.4893217  1.1775485\n",
      "  1.2200809  1.6654512  0.86973125 0.70907617 0.8417852  0.7696638 ]\n",
      " [0.9059903  0.5221441  0.90663385 1.8275224  0.398008   1.2058619\n",
      "  1.0604168  1.4115292  1.8547797  0.68263406 1.0785139  0.80152845\n",
      "  0.72937727 0.85096884 1.1847353  1.3685057  1.6825275  1.1263466\n",
      "  0.30918595 0.7273984  0.9437585  1.4037511  0.8461004  0.8913368 ]\n",
      " [0.6461468  0.5569289  1.5562019  0.93651676 0.83079916 0.52528834\n",
      "  0.54387224 0.5792287  1.4324889  1.8673513  1.3008592  1.5448512\n",
      "  1.4428076  0.44333714 0.72717845 0.58870846 0.9424359  0.84263474\n",
      "  0.13831505 1.1879809  0.61505955 1.0609429  1.6269498  0.5129904 ]\n",
      " [0.82508385 0.1971183  0.48197258 1.2201377  1.3227744  0.7489135\n",
      "  0.9304861  0.6167443  1.0316385  1.778554   0.8863373  0.6769235\n",
      "  0.79686534 0.9047408  1.4121122  1.3746076  1.2967062  0.44120866\n",
      "  1.0447948  0.5070819  1.0273839  0.43684518 0.96087945 1.3187643 ]\n",
      " [0.6672522  0.9664042  1.342802   0.6691071  1.2944176  0.9242663\n",
      "  1.1131033  0.18543106 0.7366841  0.9520756  1.3800995  1.2807883\n",
      "  1.7898891  0.76659584 1.4460927  0.8678687  1.1037072  0.64315885\n",
      "  0.52752894 0.76750016 0.9387245  1.1584276  0.17322783 1.6029375 ]\n",
      " [1.0179448  0.5506276  0.7060722  0.75865746 1.447755   0.72607386\n",
      "  0.591516   1.6189651  1.6881449  1.8025017  0.5751127  1.2943556\n",
      "  1.2546006  0.50044805 1.4290346  0.571435   0.7895562  1.7258996\n",
      "  1.2501563  1.0081626  1.2532032  0.83079714 1.4845321  1.037486  ]]\n",
      "Sad =  0.0\n"
     ]
    }
   ],
   "source": [
    "#Compute reference using Numpy\n",
    "c_ref = a + b\n",
    "\n",
    "#Print result\n",
    "print(\"C   = \", c)\n",
    "print(\"Ref = \", c_ref)\n",
    "print(\"Sad = \", np.sum(np.abs(c - c_ref)))"
   ]
  },
  {
   "cell_type": "code",
   "execution_count": 26,
   "metadata": {},
   "outputs": [
    {
     "data": {
      "text/plain": [
       "<matplotlib.image.AxesImage at 0x7ff575d4f828>"
      ]
     },
     "execution_count": 26,
     "metadata": {},
     "output_type": "execute_result"
    },
    {
     "data": {
      "image/png": "[encoded data removed]",
      "text/plain": [
       "<matplotlib.figure.Figure at 0x7ff575dfdf28>"
      ]
     },
     "metadata": {
      "needs_background": "light"
     },
     "output_type": "display_data"
    }
   ],
   "source": [
    "fig = plt.figure(figsize=(12,8))\n",
    "plt.subplot(1,2,1)\n",
    "plt.imshow(c)\n",
    "plt.subplot(1,2,2)\n",
    "plt.imshow(c_ref)"
   ]
  },
  {
   "cell_type": "code",
   "execution_count": null,
   "metadata": {},
   "outputs": [],
   "source": []
  }
 ],
 "metadata": {
  "kernelspec": {
   "display_name": "Python 3",
   "language": "python",
   "name": "python3"
  },
  "language_info": {
   "codemirror_mode": {
    "name": "ipython",
    "version": 3
   },
   "file_extension": ".py",
   "mimetype": "text/x-python",
   "name": "python",
   "nbconvert_exporter": "python",
   "pygments_lexer": "ipython3",
   "version": "3.6.6"
  }
 },
 "nbformat": 4,
 "nbformat_minor": 2
}
